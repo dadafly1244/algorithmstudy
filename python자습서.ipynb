{
  "nbformat": 4,
  "nbformat_minor": 0,
  "metadata": {
    "colab": {
      "name": "python자습서.ipynb",
      "private_outputs": true,
      "provenance": [],
      "collapsed_sections": [],
      "authorship_tag": "ABX9TyOmh+/jr4ZYhneRqseKL0YU",
      "include_colab_link": true
    },
    "kernelspec": {
      "name": "python3",
      "display_name": "Python 3"
    },
    "language_info": {
      "name": "python"
    }
  },
  "cells": [
    {
      "cell_type": "markdown",
      "metadata": {
        "id": "view-in-github",
        "colab_type": "text"
      },
      "source": [
        "<a href=\"https://colab.research.google.com/github/dadafly1244/algorithmstudy/blob/main/python%EC%9E%90%EC%8A%B5%EC%84%9C.ipynb\" target=\"_parent\"><img src=\"https://colab.research.google.com/assets/colab-badge.svg\" alt=\"Open In Colab\"/></a>"
      ]
    },
    {
      "cell_type": "code",
      "source": [
        ""
      ],
      "metadata": {
        "id": "aBB40F_E3xeY"
      },
      "execution_count": null,
      "outputs": []
    },
    {
      "cell_type": "markdown",
      "source": [
        "1/31  ch3~4"
      ],
      "metadata": {
        "id": "QRLf9YIpO7S9"
      }
    },
    {
      "cell_type": "code",
      "execution_count": null,
      "metadata": {
        "id": "01YjGUEn5S-5"
      },
      "outputs": [],
      "source": [
        "spam = 1\n",
        "text = \"#this is not a comment ~~\""
      ]
    },
    {
      "cell_type": "code",
      "source": [
        "2+2"
      ],
      "metadata": {
        "id": "DS98k-4N6Q-7"
      },
      "execution_count": null,
      "outputs": []
    },
    {
      "cell_type": "code",
      "source": [
        "(50-5*6) /4"
      ],
      "metadata": {
        "id": "WHeHFw5v6Wjh"
      },
      "execution_count": null,
      "outputs": []
    },
    {
      "cell_type": "code",
      "source": [
        "8/5"
      ],
      "metadata": {
        "id": "SMm6AJif6ccS"
      },
      "execution_count": null,
      "outputs": []
    },
    {
      "cell_type": "code",
      "source": [
        "17/3"
      ],
      "metadata": {
        "id": "jDYjOI5-7xlM"
      },
      "execution_count": null,
      "outputs": []
    },
    {
      "cell_type": "code",
      "source": [
        "17//3 # 몫  "
      ],
      "metadata": {
        "id": "_zt_KsSM7zJ-"
      },
      "execution_count": null,
      "outputs": []
    },
    {
      "cell_type": "code",
      "source": [
        "17%3 #나머지 "
      ],
      "metadata": {
        "id": "uiLKbJz370O4"
      },
      "execution_count": null,
      "outputs": []
    },
    {
      "cell_type": "code",
      "source": [
        "5%2+3"
      ],
      "metadata": {
        "id": "vDpgQBDJ76q7"
      },
      "execution_count": null,
      "outputs": []
    },
    {
      "cell_type": "code",
      "source": [
        "5**2"
      ],
      "metadata": {
        "id": "P7L6K7f2AhAu"
      },
      "execution_count": null,
      "outputs": []
    },
    {
      "cell_type": "code",
      "source": [
        "width = 20"
      ],
      "metadata": {
        "id": "DzeF_gnPAjGN"
      },
      "execution_count": null,
      "outputs": []
    },
    {
      "cell_type": "code",
      "source": [
        "height = 5*9"
      ],
      "metadata": {
        "id": "shWGVEK5AvEJ"
      },
      "execution_count": null,
      "outputs": []
    },
    {
      "cell_type": "code",
      "source": [
        "width *height "
      ],
      "metadata": {
        "id": "BshSo86SAxrf"
      },
      "execution_count": null,
      "outputs": []
    },
    {
      "cell_type": "code",
      "source": [
        "n "
      ],
      "metadata": {
        "id": "1CKx3bhFA09C"
      },
      "execution_count": null,
      "outputs": []
    },
    {
      "cell_type": "code",
      "source": [
        "4 * 3.75 -1"
      ],
      "metadata": {
        "id": "grztw12tA3Jq"
      },
      "execution_count": null,
      "outputs": []
    },
    {
      "cell_type": "code",
      "source": [
        "tax = 12.5/100"
      ],
      "metadata": {
        "id": "_WNZ77HAA-dA"
      },
      "execution_count": null,
      "outputs": []
    },
    {
      "cell_type": "code",
      "source": [
        "price = 100.50"
      ],
      "metadata": {
        "id": "Sm0XDCshBHvZ"
      },
      "execution_count": null,
      "outputs": []
    },
    {
      "cell_type": "code",
      "source": [
        "price * tax"
      ],
      "metadata": {
        "id": "4xfWxHvZBJ8B"
      },
      "execution_count": null,
      "outputs": []
    },
    {
      "cell_type": "code",
      "source": [
        "price + _"
      ],
      "metadata": {
        "id": "frgT_7bgBMq3"
      },
      "execution_count": null,
      "outputs": []
    },
    {
      "cell_type": "code",
      "source": [
        "round(_,2)"
      ],
      "metadata": {
        "id": "44JxpgzqBOvD"
      },
      "execution_count": null,
      "outputs": []
    },
    {
      "cell_type": "code",
      "source": [
        "'spam eggs'"
      ],
      "metadata": {
        "id": "lv-lvpgEBVIw"
      },
      "execution_count": null,
      "outputs": []
    },
    {
      "cell_type": "code",
      "source": [
        "'doesn\\'t'"
      ],
      "metadata": {
        "id": "oQf75FPTBqvJ"
      },
      "execution_count": null,
      "outputs": []
    },
    {
      "cell_type": "code",
      "source": [
        "'\"yes,\" they said'"
      ],
      "metadata": {
        "id": "rPkSxjR3Bvld"
      },
      "execution_count": null,
      "outputs": []
    },
    {
      "cell_type": "code",
      "source": [
        "\"\\\"yes,\\\" they said\""
      ],
      "metadata": {
        "id": "tZ4DefsXB1op"
      },
      "execution_count": null,
      "outputs": []
    },
    {
      "cell_type": "code",
      "source": [
        "print(\"\\\"yes\\\", they are\")"
      ],
      "metadata": {
        "id": "9V6e8dftB6iu"
      },
      "execution_count": null,
      "outputs": []
    },
    {
      "cell_type": "code",
      "source": [
        "s= 'first line. \\n second line'"
      ],
      "metadata": {
        "id": "yCnRQvSHCISl"
      },
      "execution_count": null,
      "outputs": []
    },
    {
      "cell_type": "code",
      "source": [
        "s"
      ],
      "metadata": {
        "id": "W0ylxMJxDjgj"
      },
      "execution_count": null,
      "outputs": []
    },
    {
      "cell_type": "code",
      "source": [
        "print(s)"
      ],
      "metadata": {
        "id": "Tu99Xv0fDkTM"
      },
      "execution_count": null,
      "outputs": []
    },
    {
      "cell_type": "code",
      "source": [
        "print('ccc:\\s\\name')"
      ],
      "metadata": {
        "id": "fmfLxIp1DnT1"
      },
      "execution_count": null,
      "outputs": []
    },
    {
      "cell_type": "code",
      "source": [
        "print(r'ccc:\\name')"
      ],
      "metadata": {
        "id": "B5XQbNCMDz_v"
      },
      "execution_count": null,
      "outputs": []
    },
    {
      "cell_type": "code",
      "source": [
        "print(\"\"\"\n",
        "Usage: thingy [OPTIONS]\n",
        "     -h                        Display this usage message\n",
        "     -H hostname               Hostname to connect to\n",
        "\"\"\")"
      ],
      "metadata": {
        "id": "6NuJMZfjD4HK"
      },
      "execution_count": null,
      "outputs": []
    },
    {
      "cell_type": "code",
      "source": [
        "print(\"\"\"\\\n",
        "Usage: thingy [OPTIONS]\n",
        "     -h                        Display this usage message\n",
        "     -H hostname               Hostname to connect to\n",
        "\"\"\")"
      ],
      "metadata": {
        "id": "E9iSnJEkEG7e"
      },
      "execution_count": null,
      "outputs": []
    },
    {
      "cell_type": "code",
      "source": [
        "3*'un'+'inm'"
      ],
      "metadata": {
        "id": "uqzNsRYPEJyv"
      },
      "execution_count": null,
      "outputs": []
    },
    {
      "cell_type": "code",
      "source": [
        "'py''thon'"
      ],
      "metadata": {
        "id": "Ozdc7vbgERcI"
      },
      "execution_count": null,
      "outputs": []
    },
    {
      "cell_type": "code",
      "source": [
        "text = ('긴 문자열을 쪼갤때'\n",
        "        '쓰면 좋다고 하는데?')\n",
        "text"
      ],
      "metadata": {
        "id": "iMBhemjJE7aJ"
      },
      "execution_count": null,
      "outputs": []
    },
    {
      "cell_type": "code",
      "source": [
        "prefix = 'py'\n",
        "prefix 'thon'"
      ],
      "metadata": {
        "id": "9Ae2Qk7yFGu2"
      },
      "execution_count": null,
      "outputs": []
    },
    {
      "cell_type": "code",
      "source": [
        "prefix = 'py'\n",
        "prefix +'thon'"
      ],
      "metadata": {
        "id": "g6fERL9rFObC"
      },
      "execution_count": null,
      "outputs": []
    },
    {
      "cell_type": "code",
      "source": [
        "word = \"Python\""
      ],
      "metadata": {
        "id": "YAllVh6cFSXP"
      },
      "execution_count": null,
      "outputs": []
    },
    {
      "cell_type": "code",
      "source": [
        "word[0]"
      ],
      "metadata": {
        "id": "0pg88fbcFcVs"
      },
      "execution_count": null,
      "outputs": []
    },
    {
      "cell_type": "code",
      "source": [
        "word[-1]"
      ],
      "metadata": {
        "id": "xkiOocGCFdsZ"
      },
      "execution_count": null,
      "outputs": []
    },
    {
      "cell_type": "code",
      "source": [
        "word[5]"
      ],
      "metadata": {
        "id": "TKl6FvCmFe4V"
      },
      "execution_count": null,
      "outputs": []
    },
    {
      "cell_type": "code",
      "source": [
        "word[-2]"
      ],
      "metadata": {
        "id": "mPc5LpqzFgS0"
      },
      "execution_count": null,
      "outputs": []
    },
    {
      "cell_type": "code",
      "source": [
        "word[-6]"
      ],
      "metadata": {
        "id": "P2oOiVdEFh_k"
      },
      "execution_count": null,
      "outputs": []
    },
    {
      "cell_type": "code",
      "source": [
        "word[0:2]"
      ],
      "metadata": {
        "id": "1xcbxbbuFkOj"
      },
      "execution_count": null,
      "outputs": []
    },
    {
      "cell_type": "code",
      "source": [
        "word[2:5]# characters from position 2 (included) to 5 (excluded)"
      ],
      "metadata": {
        "id": "tMU5OtgCFnGS"
      },
      "execution_count": null,
      "outputs": []
    },
    {
      "cell_type": "code",
      "source": [
        "word[:3]"
      ],
      "metadata": {
        "id": "6j7LL5WfFtGq"
      },
      "execution_count": null,
      "outputs": []
    },
    {
      "cell_type": "code",
      "source": [
        "word[4:]"
      ],
      "metadata": {
        "id": "UiH9cLjcFxoX"
      },
      "execution_count": null,
      "outputs": []
    },
    {
      "cell_type": "code",
      "source": [
        "word[-1:]"
      ],
      "metadata": {
        "id": "D11aQBCMFzit"
      },
      "execution_count": null,
      "outputs": []
    },
    {
      "cell_type": "code",
      "source": [
        "word[-2:]"
      ],
      "metadata": {
        "id": "HRr90iJnF2UX"
      },
      "execution_count": null,
      "outputs": []
    },
    {
      "cell_type": "code",
      "source": [
        "word[:2]+word[2:]"
      ],
      "metadata": {
        "id": "4begqK-6F4nj"
      },
      "execution_count": null,
      "outputs": []
    },
    {
      "cell_type": "code",
      "source": [
        "i = 2\n",
        "word[:i]+ word[i:]"
      ],
      "metadata": {
        "id": "hU3PEgB5F_l0"
      },
      "execution_count": null,
      "outputs": []
    },
    {
      "cell_type": "code",
      "source": [
        "word[42]"
      ],
      "metadata": {
        "id": "eVtuuZjSGJVR"
      },
      "execution_count": null,
      "outputs": []
    },
    {
      "cell_type": "code",
      "source": [
        "word[4:42]"
      ],
      "metadata": {
        "id": "i-zMB_BoGZW6"
      },
      "execution_count": null,
      "outputs": []
    },
    {
      "cell_type": "code",
      "source": [
        "word[42:]"
      ],
      "metadata": {
        "id": "Dovsvh9oGcD4"
      },
      "execution_count": null,
      "outputs": []
    },
    {
      "cell_type": "code",
      "source": [
        "word[0] ='j'"
      ],
      "metadata": {
        "id": "N56cxM-gGdTk"
      },
      "execution_count": null,
      "outputs": []
    },
    {
      "cell_type": "code",
      "source": [
        "'j'+word[1:]\n"
      ],
      "metadata": {
        "id": "D2D0tKdbGhgp"
      },
      "execution_count": null,
      "outputs": []
    },
    {
      "cell_type": "code",
      "source": [
        "word[:2]+'py'"
      ],
      "metadata": {
        "id": "fk0pA-iwGmJ1"
      },
      "execution_count": null,
      "outputs": []
    },
    {
      "cell_type": "code",
      "source": [
        "s = 'skdjfkdfjalksdjlfkasdlkfjalskdfjlaksjdlkjasldkjf'\n",
        "len(s)"
      ],
      "metadata": {
        "id": "irD9WrizGoyH"
      },
      "execution_count": null,
      "outputs": []
    },
    {
      "cell_type": "code",
      "source": [
        "str(bdkskdfjsl)"
      ],
      "metadata": {
        "id": "5q2_YV2VGs75"
      },
      "execution_count": null,
      "outputs": []
    },
    {
      "cell_type": "code",
      "source": [
        "str('sdfsdfs')"
      ],
      "metadata": {
        "id": "ZKkZCtHcG3TN"
      },
      "execution_count": null,
      "outputs": []
    },
    {
      "cell_type": "code",
      "source": [
        "'sdfsdfsdfssfsfsfsfsfs'.count('sf',1,20)"
      ],
      "metadata": {
        "id": "K3grbeknJg7w"
      },
      "execution_count": null,
      "outputs": []
    },
    {
      "cell_type": "code",
      "source": [
        "lst = [1,4,9,16,25]"
      ],
      "metadata": {
        "id": "h9m_jhzqJnHZ"
      },
      "execution_count": null,
      "outputs": []
    },
    {
      "cell_type": "code",
      "source": [
        "lst"
      ],
      "metadata": {
        "id": "DDN9PcfLK3cT"
      },
      "execution_count": null,
      "outputs": []
    },
    {
      "cell_type": "code",
      "source": [
        "lst[0]"
      ],
      "metadata": {
        "id": "QrLqSFixK4Od"
      },
      "execution_count": null,
      "outputs": []
    },
    {
      "cell_type": "code",
      "source": [
        "lst[-1]"
      ],
      "metadata": {
        "id": "CGUm_8QdK5ng"
      },
      "execution_count": null,
      "outputs": []
    },
    {
      "cell_type": "code",
      "source": [
        "lst[-3:]"
      ],
      "metadata": {
        "id": "0TPLNlKyK6qj"
      },
      "execution_count": null,
      "outputs": []
    },
    {
      "cell_type": "code",
      "source": [
        "lst[:]"
      ],
      "metadata": {
        "id": "UFCSVzR9K8PU"
      },
      "execution_count": null,
      "outputs": []
    },
    {
      "cell_type": "code",
      "source": [
        "lst + [2,3,4,54,5,22,100]"
      ],
      "metadata": {
        "id": "A5XVYViJLFhP"
      },
      "execution_count": null,
      "outputs": []
    },
    {
      "cell_type": "code",
      "source": [
        "cube=[1,8,27,65,125]"
      ],
      "metadata": {
        "id": "u54BDl0WLMbw"
      },
      "execution_count": null,
      "outputs": []
    },
    {
      "cell_type": "code",
      "source": [
        "4**3"
      ],
      "metadata": {
        "id": "pAZICWU1LQpw"
      },
      "execution_count": null,
      "outputs": []
    },
    {
      "cell_type": "code",
      "source": [
        "cube[3] = 64"
      ],
      "metadata": {
        "id": "Idd_kMb0LS4Q"
      },
      "execution_count": null,
      "outputs": []
    },
    {
      "cell_type": "code",
      "source": [
        "cube"
      ],
      "metadata": {
        "id": "7M0wqyUWLXNw"
      },
      "execution_count": null,
      "outputs": []
    },
    {
      "cell_type": "code",
      "source": [
        "cube.append(124)"
      ],
      "metadata": {
        "id": "YRbsZsvKLZY-"
      },
      "execution_count": null,
      "outputs": []
    },
    {
      "cell_type": "code",
      "source": [
        "cube.append(7**3)"
      ],
      "metadata": {
        "id": "4MojdnXvLd_0"
      },
      "execution_count": null,
      "outputs": []
    },
    {
      "cell_type": "code",
      "source": [
        "cube"
      ],
      "metadata": {
        "id": "obBpDMDfLgOz"
      },
      "execution_count": null,
      "outputs": []
    },
    {
      "cell_type": "code",
      "source": [
        "letters = ['a', 'b', 'c', 'd', 'e', 'f', 'g']\n",
        "letters"
      ],
      "metadata": {
        "id": "Uzo4Bzf9Lhdj"
      },
      "execution_count": null,
      "outputs": []
    },
    {
      "cell_type": "code",
      "source": [
        "letters[2:5] = ['C','D','E']"
      ],
      "metadata": {
        "id": "vhExeIIvLp_L"
      },
      "execution_count": null,
      "outputs": []
    },
    {
      "cell_type": "code",
      "source": [
        "letters"
      ],
      "metadata": {
        "id": "sldJXOgzLvdV"
      },
      "execution_count": null,
      "outputs": []
    },
    {
      "cell_type": "code",
      "source": [
        "letters[2:5] =[]"
      ],
      "metadata": {
        "id": "RU8KOC5zLwiQ"
      },
      "execution_count": null,
      "outputs": []
    },
    {
      "cell_type": "code",
      "source": [
        "letters"
      ],
      "metadata": {
        "id": "iCsJR3skL01a"
      },
      "execution_count": null,
      "outputs": []
    },
    {
      "cell_type": "code",
      "source": [
        "letters[:] = []"
      ],
      "metadata": {
        "id": "Kv88jZfcL1w8"
      },
      "execution_count": null,
      "outputs": []
    },
    {
      "cell_type": "code",
      "source": [
        "letters = ['a', 'b', 'c', 'd']"
      ],
      "metadata": {
        "id": "wA_Yvaf3L5aY"
      },
      "execution_count": null,
      "outputs": []
    },
    {
      "cell_type": "code",
      "source": [
        "len(letters)"
      ],
      "metadata": {
        "id": "j0LXZfyrMAUa"
      },
      "execution_count": null,
      "outputs": []
    },
    {
      "cell_type": "code",
      "source": [
        "a= ['a','b','c']\n",
        "n= [1,2,3]\n",
        "x=[ a,n]\n",
        "x"
      ],
      "metadata": {
        "id": "yvkCsIMEMCBL"
      },
      "execution_count": null,
      "outputs": []
    },
    {
      "cell_type": "code",
      "source": [
        "x[0]"
      ],
      "metadata": {
        "id": "aMrVWWWUMD_R"
      },
      "execution_count": null,
      "outputs": []
    },
    {
      "cell_type": "code",
      "source": [
        "x[1]"
      ],
      "metadata": {
        "id": "Zv3T0v_BMSmb"
      },
      "execution_count": null,
      "outputs": []
    },
    {
      "cell_type": "code",
      "source": [
        "x[1][0]"
      ],
      "metadata": {
        "id": "VGQzTdIzMTWQ"
      },
      "execution_count": null,
      "outputs": []
    },
    {
      "cell_type": "code",
      "source": [
        "a,b = 0,1"
      ],
      "metadata": {
        "id": "azXwim1vMVHO"
      },
      "execution_count": null,
      "outputs": []
    },
    {
      "cell_type": "code",
      "source": [
        "while a < 10:\n",
        "    print(a)\n",
        "    a,b = b, a+b"
      ],
      "metadata": {
        "id": "LcpSjoD-MaRt"
      },
      "execution_count": null,
      "outputs": []
    },
    {
      "cell_type": "code",
      "source": [
        "i= 2222+23423424\n",
        "print('the value i is',i)"
      ],
      "metadata": {
        "id": "5N0LYCzOMf4x"
      },
      "execution_count": null,
      "outputs": []
    },
    {
      "cell_type": "code",
      "source": [
        "a, b =0,1\n",
        "while a< 1000:\n",
        "    print(a,end=',')\n",
        "    a, b = b, a+b"
      ],
      "metadata": {
        "id": "jUVWyIh_NFYW"
      },
      "execution_count": null,
      "outputs": []
    },
    {
      "cell_type": "code",
      "source": [
        "x = int(input(\"please enter an integer: \"))"
      ],
      "metadata": {
        "id": "p7m7WhxUNRWx"
      },
      "execution_count": null,
      "outputs": []
    },
    {
      "cell_type": "code",
      "source": [
        "if x<0:\n",
        "    x=0\n",
        "    print('Negative changed to zero')\n",
        "elif x==0:\n",
        "    print('Zero')\n",
        "elif x ==1:\n",
        "    print('Single')\n",
        "else:\n",
        "    print('More')"
      ],
      "metadata": {
        "id": "y194TaPTO4E9"
      },
      "execution_count": null,
      "outputs": []
    },
    {
      "cell_type": "code",
      "source": [
        "words = ['cat','window','defenestrate']\n",
        "for w in words:\n",
        "    print(w,len(w))"
      ],
      "metadata": {
        "id": "wDUptm38PlFO"
      },
      "execution_count": null,
      "outputs": []
    },
    {
      "cell_type": "code",
      "source": [
        "users = {'안녕':'클레오', '파트라':'세상에서', '제일가는':'클레오'}\n",
        "\n",
        "for user,status in users.copy().items():\n",
        "    if status == '세상에서':\n",
        "        del users[user]\n",
        "\n",
        "active_users = {}\n",
        "for user, status in users.items():\n",
        "    if status == '클레오':\n",
        "        active_users[user] = status"
      ],
      "metadata": {
        "id": "YRHMQIY-P4CX"
      },
      "execution_count": null,
      "outputs": []
    },
    {
      "cell_type": "code",
      "source": [
        "users"
      ],
      "metadata": {
        "id": "wU71xMD4Rl2e"
      },
      "execution_count": null,
      "outputs": []
    },
    {
      "cell_type": "code",
      "source": [
        "active_users"
      ],
      "metadata": {
        "id": "xmTWiKNWRoIU"
      },
      "execution_count": null,
      "outputs": []
    },
    {
      "cell_type": "code",
      "source": [
        "for i in range(5):\n",
        "    print(i)"
      ],
      "metadata": {
        "id": "svtKycUvRqKF"
      },
      "execution_count": null,
      "outputs": []
    },
    {
      "cell_type": "code",
      "source": [
        "list(range(5,10))"
      ],
      "metadata": {
        "id": "7Onz8wJSR7vI"
      },
      "execution_count": null,
      "outputs": []
    },
    {
      "cell_type": "code",
      "source": [
        "list(range(0,10,3))"
      ],
      "metadata": {
        "id": "_L-cXe18SBBl"
      },
      "execution_count": null,
      "outputs": []
    },
    {
      "cell_type": "code",
      "source": [
        "list(range(-10,-100,-30))"
      ],
      "metadata": {
        "id": "8G3PIr96SDVs"
      },
      "execution_count": null,
      "outputs": []
    },
    {
      "cell_type": "code",
      "source": [
        "a = ['Mary', 'had', 'a', 'little', 'lamb']\n",
        "for i in range(len(a)):\n",
        "    print(i, a[i])"
      ],
      "metadata": {
        "id": "d8KF4m71SL0-"
      },
      "execution_count": null,
      "outputs": []
    },
    {
      "cell_type": "code",
      "source": [
        "seasons = ['Spring', 'Summer', 'Fall', 'Winter']\n",
        "list(enumerate(seasons))"
      ],
      "metadata": {
        "id": "C8XclFd6SVIx"
      },
      "execution_count": null,
      "outputs": []
    },
    {
      "cell_type": "code",
      "source": [
        "list(enumerate(seasons, start =1))"
      ],
      "metadata": {
        "id": "BdFWQ15_Si83"
      },
      "execution_count": null,
      "outputs": []
    },
    {
      "cell_type": "code",
      "source": [
        "def enumerate(sequence, start = 0):\n",
        "    n = start\n",
        "    for elem  in sequence:\n",
        "        yield n, elem\n",
        "        n += 1"
      ],
      "metadata": {
        "id": "lmBaqOrcSpB7"
      },
      "execution_count": null,
      "outputs": []
    },
    {
      "cell_type": "code",
      "source": [
        "range(10)"
      ],
      "metadata": {
        "id": "Ep5D9fpQS3QP"
      },
      "execution_count": null,
      "outputs": []
    },
    {
      "cell_type": "code",
      "source": [
        "sum(range(4))"
      ],
      "metadata": {
        "id": "euSAl4hyXczw"
      },
      "execution_count": null,
      "outputs": []
    },
    {
      "cell_type": "code",
      "source": [
        "for n in range(2,10):\n",
        "    for x in range(2,n):\n",
        "        if n % x == 0:\n",
        "            print(n, 'equals', x, '*',n//x)\n",
        "            break\n",
        "    else:\n",
        "        print(n, 'is a prime number')"
      ],
      "metadata": {
        "id": "C0ZpNmFwXgJB"
      },
      "execution_count": null,
      "outputs": []
    },
    {
      "cell_type": "code",
      "source": [
        "for num in range(2,10):\n",
        "    if num % 2 == 0:\n",
        "        print(\"found an even number\",num)\n",
        "        continue\n",
        "    print(\"found an odd number\",num)\n",
        "\n"
      ],
      "metadata": {
        "id": "VXFDNj3bX0UA"
      },
      "execution_count": null,
      "outputs": []
    },
    {
      "cell_type": "code",
      "source": [
        "def fib(n):\n",
        "    \"\"\"print a fibonacci series up to n.\"\"\"\n",
        "    a,b = 0,1 \n",
        "    while a<n:\n",
        "        print(a,end =\" \")\n",
        "        a, b = b, a+b\n",
        "    print()\n",
        "\n",
        "fib(12000)"
      ],
      "metadata": {
        "id": "RSk63hY9YsQX"
      },
      "execution_count": null,
      "outputs": []
    },
    {
      "cell_type": "code",
      "source": [
        "fib(0)"
      ],
      "metadata": {
        "id": "QmuTKXWLY47Y"
      },
      "execution_count": null,
      "outputs": []
    },
    {
      "cell_type": "code",
      "source": [
        "print(fib(0))"
      ],
      "metadata": {
        "id": "C21jJen9xdl2"
      },
      "execution_count": null,
      "outputs": []
    },
    {
      "cell_type": "code",
      "source": [
        "def fib2(n):\n",
        "    result = []\n",
        "    a,b = 0,1\n",
        "    while a < n:\n",
        "        result.append(a)\n",
        "        a,b = b, a+b\n",
        "    return result\n",
        "\n",
        "f100 = fib2(100)\n",
        "f100"
      ],
      "metadata": {
        "id": "QjP9BWZqxf1T"
      },
      "execution_count": null,
      "outputs": []
    },
    {
      "cell_type": "code",
      "source": [
        "def ask_ok(prompt, retries =4, reminder = 'Please try again!'):\n",
        "    while True:\n",
        "        ok = input(prompt)\n",
        "        if ok in ('y','ye','yes'):\n",
        "            return True\n",
        "        if ok in ('n','no','nop','nope'):\n",
        "            return False\n",
        "        retries = retries -1\n",
        "        if retries <0:\n",
        "            raise ValueError('invalid user response')\n",
        "        print(reminder)"
      ],
      "metadata": {
        "id": "jskDUFLXxxkJ"
      },
      "execution_count": null,
      "outputs": []
    },
    {
      "cell_type": "code",
      "source": [
        "ask_ok('정말 끝내길 원하세요?')"
      ],
      "metadata": {
        "id": "Pu_XyJw7ymFm"
      },
      "execution_count": null,
      "outputs": []
    },
    {
      "cell_type": "code",
      "source": [
        "ask_ok('파일을 덮어써도 좋습니까??')\n"
      ],
      "metadata": {
        "id": "OAB6G_zqyzTu"
      },
      "execution_count": null,
      "outputs": []
    },
    {
      "cell_type": "code",
      "source": [
        "ask_ok('파일을 덮어써도 좋습니까??')\n"
      ],
      "metadata": {
        "id": "QmsvdYaDy6ry"
      },
      "execution_count": null,
      "outputs": []
    },
    {
      "cell_type": "code",
      "source": [
        "i = 5 \n",
        "def f(arg= i):\n",
        "    print(arg)\n",
        "i = 6\n",
        "f()"
      ],
      "metadata": {
        "id": "REREctFZzArr"
      },
      "execution_count": null,
      "outputs": []
    },
    {
      "cell_type": "code",
      "source": [
        "def f(a, L=[]):\n",
        "    L.append(a)\n",
        "    return L\n",
        "    "
      ],
      "metadata": {
        "id": "gOfSJvl0zIjl"
      },
      "execution_count": null,
      "outputs": []
    },
    {
      "cell_type": "code",
      "source": [
        "print(f(1))\n",
        "print(f(2))\n",
        "print(f(3))"
      ],
      "metadata": {
        "id": "wWEH2xZezSTg"
      },
      "execution_count": null,
      "outputs": []
    },
    {
      "cell_type": "code",
      "source": [
        "\n",
        "# 연속된 호출 간에 기본값이 공유되지 않기를 원한다면, 대신 함수를 이런 식으로 쓸 수 있습니다:\n",
        "def f(a,L=None):\n",
        "    if L is None:\n",
        "        L =[]\n",
        "    L.append(a)\n",
        "    return L"
      ],
      "metadata": {
        "id": "7VQML9hQzV7i"
      },
      "execution_count": null,
      "outputs": []
    },
    {
      "cell_type": "code",
      "source": [
        "def parrot(voltage, state='a stiff', action = 'voom', type = 'Norwegian Blue'):\n",
        "    print(\"--This parrot wouldn't\", action , end=' ')\n",
        "    print(\"if you put\", voltage, \"volts through it.\")\n",
        "    print(\"-- Lovely plumage, the\", type)\n",
        "    print(\"-- It's\", state, \"!\")\n",
        "\n",
        "parrot(1000)\n",
        "parrot(voltage = 1000)\n",
        "parrot(voltage=1000000, action='VOOOOOM') \n",
        "parrot(action='VOOOOOM', voltage=1000000) \n",
        "parrot('a million', 'bereft of life', 'jump')\n",
        "parrot('a thousand', state='pushing up the daisies')"
      ],
      "metadata": {
        "id": "mQaILmJmzmDR"
      },
      "execution_count": null,
      "outputs": []
    },
    {
      "cell_type": "code",
      "source": [
        " def print_param(*name):\n",
        "      print(name)\n",
        "      for p in name:\n",
        "          print(p)"
      ],
      "metadata": {
        "id": "XJpUr4QC0RD0"
      },
      "execution_count": null,
      "outputs": []
    },
    {
      "cell_type": "code",
      "source": [
        "print_param('a','b','c')\n"
      ],
      "metadata": {
        "id": "uuLWqa4e26q4"
      },
      "execution_count": null,
      "outputs": []
    },
    {
      "cell_type": "code",
      "source": [
        "def table_things(**kwargs):\n",
        "     for name, value in kwargs.items():\n",
        "        print( '{0} = {1}'.format(name, value))\n",
        "\n",
        "table_things(apple = 'fruit', cabbage = 'vegetable')"
      ],
      "metadata": {
        "id": "HvVuB0PC3Fc5"
      },
      "execution_count": null,
      "outputs": []
    },
    {
      "cell_type": "code",
      "source": [
        "def cheeseshop(kind, *arguments, **keywords):\n",
        "    print(\"-- Do you have any\", kind, \"?\")\n",
        "    print(\"-- I'm sorry, we're all out of\", kind)\n",
        "    for arg in arguments:\n",
        "        print(arg)\n",
        "    print(\"-\" * 40)\n",
        "    for kw in keywords:\n",
        "        print(kw, \":\", keywords[kw])"
      ],
      "metadata": {
        "id": "YfmzMyDI4aaC"
      },
      "execution_count": null,
      "outputs": []
    },
    {
      "cell_type": "code",
      "source": [
        "cheeseshop(\"Limburger\", \"It's very runny, sir.\",\n",
        "           \"It's really very, VERY runny, sir.\",\n",
        "           shopkeeper=\"Michael Palin\",\n",
        "           client=\"John Cleese\",\n",
        "           sketch=\"Cheese Shop Sketch\")"
      ],
      "metadata": {
        "id": "vDFRY22o5IcQ"
      },
      "execution_count": null,
      "outputs": []
    },
    {
      "cell_type": "code",
      "source": [
        "def standard_arg(arg):\n",
        "    print(arg)\n",
        "\n",
        "def pos_only_arg(arg, /):\n",
        "    print(arg)\n",
        "\n",
        "def kwd_only_arg(*,arg):\n",
        "    print(arg)\n",
        "\n",
        "def combined_example(pos_only, / standard, * , kwd_only):\n",
        "    print(pos_only, standard, kwd_only)\n",
        "\n"
      ],
      "metadata": {
        "id": "9cbdstoN5Kcp"
      },
      "execution_count": null,
      "outputs": []
    },
    {
      "cell_type": "code",
      "source": [
        "def foo(name, **kwds):\n",
        "    return 'name' in kwds\n",
        "    "
      ],
      "metadata": {
        "id": "Pwbi0A-67ksw"
      },
      "execution_count": null,
      "outputs": []
    },
    {
      "cell_type": "code",
      "source": [
        "foo(1,**{'name':2})"
      ],
      "metadata": {
        "id": "jGRcATV56mi0"
      },
      "execution_count": null,
      "outputs": []
    },
    {
      "cell_type": "code",
      "source": [
        "def foo(name, /, **kwds):\n",
        "    return 'name' in kwds"
      ],
      "metadata": {
        "id": "PONi0GPL7whw"
      },
      "execution_count": null,
      "outputs": []
    },
    {
      "cell_type": "code",
      "source": [
        "def write_multiple_items(file, separator, *args):\n",
        "    file.write(separator.join(args))"
      ],
      "metadata": {
        "id": "OtGagyZd7zh8"
      },
      "execution_count": null,
      "outputs": []
    },
    {
      "cell_type": "code",
      "source": [
        "def concat(*args, sep='/'):\n",
        "    return sep.join(args)"
      ],
      "metadata": {
        "id": "4BqIHXgE8Dtc"
      },
      "execution_count": null,
      "outputs": []
    },
    {
      "cell_type": "code",
      "source": [
        "concat('earth','mars','venus')"
      ],
      "metadata": {
        "id": "fEKmsZkH8PwG"
      },
      "execution_count": null,
      "outputs": []
    },
    {
      "cell_type": "code",
      "source": [
        "concat('earth','mars','venus', sep='.')"
      ],
      "metadata": {
        "id": "uVYAFECp8T-k"
      },
      "execution_count": null,
      "outputs": []
    },
    {
      "cell_type": "code",
      "source": [
        "list(range(3,6))"
      ],
      "metadata": {
        "id": "FNfP9XD68Z_4"
      },
      "execution_count": null,
      "outputs": []
    },
    {
      "cell_type": "code",
      "source": [
        "args = [3,6]\n",
        "list(range(*args))"
      ],
      "metadata": {
        "id": "bdnynlnW8f4x"
      },
      "execution_count": null,
      "outputs": []
    },
    {
      "cell_type": "code",
      "source": [
        "def parrot(voltage, state='a stiff', action='voom'):\n",
        "    print(\"-- This parrot wouldn't\", action, end=' ')\n",
        "    print(\"if you put\", voltage, \"volts through it.\", end=' ')\n",
        "    print(\"E's\", state, \"!\")"
      ],
      "metadata": {
        "id": "hfNJ3ew88lkh"
      },
      "execution_count": null,
      "outputs": []
    },
    {
      "cell_type": "code",
      "source": [
        "d = {\"voltage\": \"four million\", \"state\": \"bleedin' demised\", \"action\": \"VOOM\"}"
      ],
      "metadata": {
        "id": "zm-ofZPJ86YR"
      },
      "execution_count": null,
      "outputs": []
    },
    {
      "cell_type": "code",
      "source": [
        "parrot(**d)"
      ],
      "metadata": {
        "id": "lzTIn9Ns89fB"
      },
      "execution_count": null,
      "outputs": []
    },
    {
      "cell_type": "code",
      "source": [
        "def make_incrementor(n):\n",
        "    return lambda x: x+n"
      ],
      "metadata": {
        "id": "mcqiT5ST8-rb"
      },
      "execution_count": null,
      "outputs": []
    },
    {
      "cell_type": "code",
      "source": [
        "f =make_incrementor(42)"
      ],
      "metadata": {
        "id": "tHbW3bFb-fzM"
      },
      "execution_count": null,
      "outputs": []
    },
    {
      "cell_type": "code",
      "source": [
        "f(0)"
      ],
      "metadata": {
        "id": "4zwo5FHM-j0i"
      },
      "execution_count": null,
      "outputs": []
    },
    {
      "cell_type": "code",
      "source": [
        "f(1)"
      ],
      "metadata": {
        "id": "-LbtOQ2z-tgt"
      },
      "execution_count": null,
      "outputs": []
    },
    {
      "cell_type": "code",
      "source": [
        "pairs = [(1, 'one'), (2, 'two'), (3, 'three'), (4, 'four')]\n",
        "pairs.sort(key=lambda pair: pair[1])"
      ],
      "metadata": {
        "id": "Tbw4N8Pj-usK"
      },
      "execution_count": null,
      "outputs": []
    },
    {
      "cell_type": "code",
      "source": [
        "pairs"
      ],
      "metadata": {
        "id": "OjTFhyYt-7tK"
      },
      "execution_count": null,
      "outputs": []
    },
    {
      "cell_type": "code",
      "source": [
        ""
      ],
      "metadata": {
        "id": "lJmQKHtT-86C"
      },
      "execution_count": null,
      "outputs": []
    },
    {
      "cell_type": "markdown",
      "source": [
        "2/2 5~"
      ],
      "metadata": {
        "id": "t5ZhZDrnOkXu"
      }
    },
    {
      "cell_type": "code",
      "source": [
        "fruits = ['orange', 'apple', 'pear', 'banana', 'kiwi', 'apple', 'banana']\n",
        "fruits.count('apple')"
      ],
      "metadata": {
        "id": "XansbLQ3Omq9"
      },
      "execution_count": null,
      "outputs": []
    },
    {
      "cell_type": "code",
      "source": [
        "fruits.count('tangerine')"
      ],
      "metadata": {
        "id": "9UlkFQmqOvoJ"
      },
      "execution_count": null,
      "outputs": []
    },
    {
      "cell_type": "code",
      "source": [
        "fruits.index('banana')"
      ],
      "metadata": {
        "id": "pawD787RO3bt"
      },
      "execution_count": null,
      "outputs": []
    },
    {
      "cell_type": "code",
      "source": [
        "fruits.index('banana',4)# 4 부터 시작해서찾기 "
      ],
      "metadata": {
        "id": "V1rypuwdO6i3"
      },
      "execution_count": null,
      "outputs": []
    },
    {
      "cell_type": "code",
      "source": [
        "fruits.reverse()\n",
        "fruits"
      ],
      "metadata": {
        "id": "kf2FPafDPAvb"
      },
      "execution_count": null,
      "outputs": []
    },
    {
      "cell_type": "code",
      "source": [
        "fruits.append('grape')"
      ],
      "metadata": {
        "id": "fW5JDU73PKX1"
      },
      "execution_count": null,
      "outputs": []
    },
    {
      "cell_type": "code",
      "source": [
        "fruits"
      ],
      "metadata": {
        "id": "EGM2kHS5PO0X"
      },
      "execution_count": null,
      "outputs": []
    },
    {
      "cell_type": "code",
      "source": [
        "fruits.sort()"
      ],
      "metadata": {
        "id": "OZlv-bv8PP_X"
      },
      "execution_count": null,
      "outputs": []
    },
    {
      "cell_type": "code",
      "source": [
        "fruits"
      ],
      "metadata": {
        "id": "uZe9VM0qPSy9"
      },
      "execution_count": null,
      "outputs": []
    },
    {
      "cell_type": "code",
      "source": [
        "fruits.pop()"
      ],
      "metadata": {
        "id": "RtfPpB_HPUSh"
      },
      "execution_count": null,
      "outputs": []
    },
    {
      "cell_type": "code",
      "source": [
        "fruits.pop()"
      ],
      "metadata": {
        "id": "T-EVJOKwPa9k"
      },
      "execution_count": null,
      "outputs": []
    },
    {
      "cell_type": "code",
      "source": [
        "fruits"
      ],
      "metadata": {
        "id": "WSCCbZiePdV7"
      },
      "execution_count": null,
      "outputs": []
    },
    {
      "cell_type": "code",
      "source": [
        "fruits.remove('banana')"
      ],
      "metadata": {
        "id": "Pl8qNGQDPhmQ"
      },
      "execution_count": null,
      "outputs": []
    },
    {
      "cell_type": "code",
      "source": [
        "fruits"
      ],
      "metadata": {
        "id": "AvA_d8z2PuBw"
      },
      "execution_count": null,
      "outputs": []
    },
    {
      "cell_type": "code",
      "source": [
        "fruits.remove('banana')\n",
        "fruits"
      ],
      "metadata": {
        "id": "ZzBO9nrxPyN3"
      },
      "execution_count": null,
      "outputs": []
    },
    {
      "cell_type": "code",
      "source": [
        "fruits.remove('banana')"
      ],
      "metadata": {
        "id": "VwMsoCTfP2Bn"
      },
      "execution_count": null,
      "outputs": []
    },
    {
      "cell_type": "code",
      "source": [
        "fruits.index('kiwi',1,4)"
      ],
      "metadata": {
        "id": "IkVIkzFFP5LM"
      },
      "execution_count": null,
      "outputs": []
    },
    {
      "cell_type": "code",
      "source": [
        "fruits.index('kiwi',1,3)"
      ],
      "metadata": {
        "id": "WKYq-zWAQCo1"
      },
      "execution_count": null,
      "outputs": []
    },
    {
      "cell_type": "code",
      "source": [
        "stack=[3,4,5]\n",
        "stack.append(6)\n",
        "stack.append(7)\n",
        "stack"
      ],
      "metadata": {
        "id": "y8S9jMJqQJrx"
      },
      "execution_count": null,
      "outputs": []
    },
    {
      "cell_type": "code",
      "source": [
        "stack.pop()"
      ],
      "metadata": {
        "id": "BRF0FJdiQQ1R"
      },
      "execution_count": null,
      "outputs": []
    },
    {
      "cell_type": "code",
      "source": [
        "stack"
      ],
      "metadata": {
        "id": "w2j1GoKHQSIt"
      },
      "execution_count": null,
      "outputs": []
    },
    {
      "cell_type": "code",
      "source": [
        "stack.pop()"
      ],
      "metadata": {
        "id": "PozLRDKFQTH_"
      },
      "execution_count": null,
      "outputs": []
    },
    {
      "cell_type": "code",
      "source": [
        "stack.pop()"
      ],
      "metadata": {
        "id": "844r-ctcQUmN"
      },
      "execution_count": null,
      "outputs": []
    },
    {
      "cell_type": "code",
      "source": [
        "stack"
      ],
      "metadata": {
        "id": "XaMTTzz4QVwR"
      },
      "execution_count": null,
      "outputs": []
    },
    {
      "cell_type": "code",
      "source": [
        "from collections import deque \n",
        "queue = deque(['eric','john','michael'])\n",
        "queue.append('terry')\n",
        "queue.append('granham')\n",
        "queue.popleft()"
      ],
      "metadata": {
        "id": "0UoJAKPEQW6V"
      },
      "execution_count": null,
      "outputs": []
    },
    {
      "cell_type": "code",
      "source": [
        "queue.popleft()"
      ],
      "metadata": {
        "id": "EsgRRMk5QxWK"
      },
      "execution_count": null,
      "outputs": []
    },
    {
      "cell_type": "code",
      "source": [
        "queue"
      ],
      "metadata": {
        "id": "zws5l4A2Qz96"
      },
      "execution_count": null,
      "outputs": []
    },
    {
      "cell_type": "code",
      "source": [
        "squares = []\n",
        "for x in range(10):\n",
        "    squares.append(x**2)\n",
        "squares"
      ],
      "metadata": {
        "id": "QDavwmeoQ1gV"
      },
      "execution_count": null,
      "outputs": []
    },
    {
      "cell_type": "code",
      "source": [
        "squares = list(map(lambda x: x **2, range(10)))"
      ],
      "metadata": {
        "id": "fa5UOp9MRE5P"
      },
      "execution_count": null,
      "outputs": []
    },
    {
      "cell_type": "code",
      "source": [
        "squares"
      ],
      "metadata": {
        "id": "Igdt9WYtROvN"
      },
      "execution_count": null,
      "outputs": []
    },
    {
      "cell_type": "code",
      "source": [
        "squares = [x ** 2 for x in range(10)]"
      ],
      "metadata": {
        "id": "lrPcaqZdRQi_"
      },
      "execution_count": null,
      "outputs": []
    },
    {
      "cell_type": "code",
      "source": [
        " [(x, y) for x in [1,2,3] for y in [3,1,4] if x != y]"
      ],
      "metadata": {
        "id": "PEKAM263RWgE"
      },
      "execution_count": null,
      "outputs": []
    },
    {
      "cell_type": "code",
      "source": [
        "c = []\n",
        "for x in [1,2,3]:\n",
        "    for y in [3,1,4]:\n",
        "        if x != y:\n",
        "            c.append((x,y))\n",
        "c"
      ],
      "metadata": {
        "id": "ptc83FEV3_u3"
      },
      "execution_count": null,
      "outputs": []
    },
    {
      "cell_type": "code",
      "source": [
        ""
      ],
      "metadata": {
        "id": "4J4JsrXq3_5F"
      },
      "execution_count": null,
      "outputs": []
    }
  ]
}